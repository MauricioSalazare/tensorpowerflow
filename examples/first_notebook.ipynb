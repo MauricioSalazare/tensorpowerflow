{
 "cells": [
  {
   "cell_type": "code",
   "execution_count": 18,
   "id": "555b5f37-2549-4615-aa66-e6a4fa37d3fe",
   "metadata": {},
   "outputs": [],
   "source": [
    "from tensorpowerflow import GridTensor"
   ]
  },
  {
   "cell_type": "code",
   "execution_count": 19,
   "id": "da17f60b-ec4a-40f8-b26c-2718c3afd17c",
   "metadata": {},
   "outputs": [
    {
     "name": "stdout",
     "output_type": "stream",
     "text": [
      "Default case loaded.\n",
      "Numba mode enabled\n",
      "Compiling JIT functions\n",
      "Compile time: 4.9609 seconds\n"
     ]
    }
   ],
   "source": [
    "network = GridTensor()"
   ]
  },
  {
   "cell_type": "code",
   "execution_count": 22,
   "id": "11a39581-7cb8-4d08-86a0-a864e161c99e",
   "metadata": {},
   "outputs": [
    {
     "data": {
      "text/plain": [
       "{'v': array([0.98965162+0.00180549j, 0.98060256+0.00337785j,\n",
       "        0.96828145+0.00704551j, 0.95767051+0.01019764j,\n",
       "        0.94765203+0.01316654j, 0.94090964+0.01600068j,\n",
       "        0.93719984+0.01754998j, 0.93283877+0.01937559j,\n",
       "        0.93073823+0.02026054j, 0.9299309 +0.02058985j,\n",
       "        0.92968994+0.02068728j, 0.98003142+0.00362498j,\n",
       "        0.97950885+0.00385019j, 0.97936712+0.00391065j,\n",
       "        0.97935604+0.0039148j , 0.93971131+0.01547898j,\n",
       "        0.93309482+0.01739656j, 0.92577912+0.01988823j,\n",
       "        0.91988489+0.02188907j, 0.91475251+0.02362566j,\n",
       "        0.90888169+0.02596304j, 0.90404908+0.02788248j,\n",
       "        0.89950353+0.02968449j, 0.89731375+0.03055177j,\n",
       "        0.89647201+0.03088507j, 0.89622055+0.03098473j,\n",
       "        0.94032081+0.01625577j, 0.93992817+0.01642583j,\n",
       "        0.93973182+0.01651086j, 0.9301316 +0.02052908j,\n",
       "        0.92952481+0.02079761j, 0.92922137+0.02093188j,\n",
       "        0.92912022+0.02097663j]),\n",
       " 'time_pre_pf': 4.0000008993956726e-07,\n",
       " 'time_pf': 8.27000001208944e-05,\n",
       " 'time_algorithm': 8.310000021083397e-05,\n",
       " 'iterations': 6,\n",
       " 'convergence': True}"
      ]
     },
     "execution_count": 22,
     "metadata": {},
     "output_type": "execute_result"
    }
   ],
   "source": [
    "network.run_pf_sequential()"
   ]
  },
  {
   "cell_type": "code",
   "execution_count": null,
   "id": "d40207a3-4afa-4fcf-af4c-c8ded03022be",
   "metadata": {},
   "outputs": [],
   "source": []
  }
 ],
 "metadata": {
  "kernelspec": {
   "display_name": "Python 3 (ipykernel)",
   "language": "python",
   "name": "python3"
  },
  "language_info": {
   "codemirror_mode": {
    "name": "ipython",
    "version": 3
   },
   "file_extension": ".py",
   "mimetype": "text/x-python",
   "name": "python",
   "nbconvert_exporter": "python",
   "pygments_lexer": "ipython3",
   "version": "3.9.0"
  }
 },
 "nbformat": 4,
 "nbformat_minor": 5
}
